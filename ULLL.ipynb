{
 "cells": [
  {
   "cell_type": "code",
   "execution_count": null,
   "id": "f7bd7627",
   "metadata": {},
   "outputs": [],
   "source": [
    "price = float(input(\"Enter the original price: \"))\n",
    "\n",
    "if price >= 500:\n",
    "    discounted_price = price * 0.5\n",
    "    discount_percent = 50\n",
    "elif price >= 200:\n",
    "    discounted_price = price * 0.7\n",
    "    discount_percent = 30\n",
    "else:\n",
    "    discounted_price = price * 0.9\n",
    "    discount_percent = 10\n",
    "\n",
    "print(f\"The original price was {price:.2f}$.\")\n",
    "print(f\"The discount applied was {discount_percent}%.\")\n",
    "print(f\"The discounted price is {discounted_price:.2f}$.\")\n"
   ]
  }
 ],
 "metadata": {
  "kernelspec": {
   "display_name": "Python 3 (ipykernel)",
   "language": "python",
   "name": "python3"
  },
  "language_info": {
   "codemirror_mode": {
    "name": "ipython",
    "version": 3
   },
   "file_extension": ".py",
   "mimetype": "text/x-python",
   "name": "python",
   "nbconvert_exporter": "python",
   "pygments_lexer": "ipython3",
   "version": "3.10.9"
  }
 },
 "nbformat": 4,
 "nbformat_minor": 5
}
