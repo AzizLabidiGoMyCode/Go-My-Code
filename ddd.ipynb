{
 "cells": [
  {
   "cell_type": "code",
   "execution_count": null,
   "id": "4c367b91",
   "metadata": {},
   "outputs": [],
   "source": [
    "input_string = input(\"Enter a string: \")\n",
    "\n",
    "output_string = \"\"\n",
    "\n",
    "for i in range(len(input_string)):\n",
    "    if i % 2 == 0:\n",
    "        output_string += input_string[i]\n",
    "\n",
    "print(output_string)\n"
   ]
  }
 ],
 "metadata": {
  "kernelspec": {
   "display_name": "Python 3 (ipykernel)",
   "language": "python",
   "name": "python3"
  },
  "language_info": {
   "codemirror_mode": {
    "name": "ipython",
    "version": 3
   },
   "file_extension": ".py",
   "mimetype": "text/x-python",
   "name": "python",
   "nbconvert_exporter": "python",
   "pygments_lexer": "ipython3",
   "version": "3.10.9"
  }
 },
 "nbformat": 4,
 "nbformat_minor": 5
}
