{
 "cells": [
  {
   "cell_type": "code",
   "execution_count": null,
   "id": "ed909d88-2e75-4c01-9eb1-fcd7fddaffea",
   "metadata": {},
   "outputs": [],
   "source": [
    "\n",
    "import numpy as np\n",
    "num_students = int(input(\"Enter the number of students: \"))\n",
    "marks = np.zeros((num_students, num_students))\n",
    "for i in range(num_students):\n",
    "    for j in range(num_students):\n",
    "        marks[i][j] = int(input(\"Enter the marks of student {} in subject {}: \".format(i+1, j+1)))\n",
    "total_marks = np.sum(marks)\n",
    "percentage = (total_marks / (num_students * num_students)) * 100\n",
    "for i in range(num_students):\n",
    "    print(\"Student {}:\".format(i+1))\n",
    "    print(\"Total marks: {}\".format(total_marks))\n",
    "    print(\"Percentage: {}\".format(percentage))\n",
    "    print(\"Grade: {}\".format(''))\n"
   ]
  }
 ],
 "metadata": {
  "kernelspec": {
   "display_name": "Python 3 (ipykernel)",
   "language": "python",
   "name": "python3"
  },
  "language_info": {
   "codemirror_mode": {
    "name": "ipython",
    "version": 3
   },
   "file_extension": ".py",
   "mimetype": "text/x-python",
   "name": "python",
   "nbconvert_exporter": "python",
   "pygments_lexer": "ipython3",
   "version": "3.10.9"
  }
 },
 "nbformat": 4,
 "nbformat_minor": 5
}
