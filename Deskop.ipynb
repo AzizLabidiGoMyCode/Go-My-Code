{
 "cells": [
  {
   "cell_type": "code",
   "execution_count": null,
   "id": "09bd798f",
   "metadata": {},
   "outputs": [],
   "source": [
    "#Q 1:\n",
    "def  function_Max1(y=1,o=2,p=3):\n",
    "    Max = max(1,2,3)\n",
    "    return(Max)\n",
    "function_Max1()"
   ]
  },
  {
   "cell_type": "code",
   "execution_count": null,
   "id": "16e091ab",
   "metadata": {},
   "outputs": [],
   "source": [
    "#Q2:\n",
    "def calculation():\n",
    "    y = int(input(\"enter the first number: \"))\n",
    "    e = int(input(\"enter the second number: \"))\n",
    "    result1 = y - e\n",
    "    result2 = y + e\n",
    "    print(\"subtraction:\", result1, \"addition:\", result2)\n",
    "calculation()"
   ]
  },
  {
   "cell_type": "markdown",
   "id": "73362090",
   "metadata": {},
   "source": [
    "# "
   ]
  },
  {
   "cell_type": "code",
   "execution_count": null,
   "id": "a9d05e32",
   "metadata": {},
   "outputs": [],
   "source": [
    "##Qb 3 :\n",
    "def Lists(li1st):\n",
    "    r = []\n",
    "    for s in li1st:\n",
    "        r.append(s + s)\n",
    "        return(r)\n",
    "def Lists"
   ]
  },
  {
   "cell_type": "code",
   "execution_count": null,
   "id": "09a01ca4",
   "metadata": {},
   "outputs": [],
   "source": [
    "##Qb 3 :\n",
    "def Lists(li1st):\n",
    "    r = []\n",
    "    for s in li1st:\n",
    "        r.append(s + s)\n",
    "    return r\n",
    "\n",
    "li1st1 = [1,2,3,4,5,6,7,8,9,10] \n",
    "print(Lists(li1st))\n",
    "def Lists"
   ]
  },
  {
   "cell_type": "code",
   "execution_count": null,
   "id": "4cab2a65",
   "metadata": {},
   "outputs": [],
   "source": [
    "def Lists1(li1st1):\n",
    "    r = []\n",
    "    for s in li1st1:\n",
    "        r.append(s * s)\n",
    "    return r\n",
    "\n",
    "li1st = [1,2,3,4,5,6,7,8,9,10] \n",
    "print(Lists1(li1st))\n",
    "def Lists1"
   ]
  },
  {
   "cell_type": "code",
   "execution_count": null,
   "id": "d3cd33c2",
   "metadata": {},
   "outputs": [],
   "source": [
    "def List1111(li1st):\n",
    "    r = []\n",
    "    for s in li1st:\n",
    "        if s % 2 == 0:\n",
    "            r.append(s + s)\n",
    "        else:\n",
    "            r.append(s * s)\n",
    "    return(r)\n",
    "li1st = [1, 2, 3, 4, 5, 6, 7, 8, 9, 10]\n",
    "print(List1111(li1st))\n",
    "def List1111(li1st)"
   ]
  },
  {
   "cell_type": "code",
   "execution_count": null,
   "id": "e7572fcf",
   "metadata": {},
   "outputs": [],
   "source": [
    "def get_first_letter_uppercase(d): #Q 4 :\n",
    "    result = []\n",
    "    for value in d.values():\n",
    "        result.append(value[0].upper())\n",
    "    return result\n",
    "\n",
    "d = {'aziz': 'apple', 'labidi': 'banana'}\n",
    "print(get_first_letter_uppercase(d))"
   ]
  },
  {
   "cell_type": "code",
   "execution_count": null,
   "id": "f7b40274",
   "metadata": {},
   "outputs": [],
   "source": [
    "#Q5 :\n",
    "                                                                                                                                \n",
    "def largest_word(d):\n",
    "    largest = ''\n",
    "\n",
    "    for word in d.keys():\n",
    "        if len(d[word]) > len(largest):\n",
    "            largest = word\n",
    "    return(largest)\n",
    "largest_word(    d = {'aziz': 'apple', 'labidi': 'banana'})"
   ]
  },
  {
   "cell_type": "code",
   "execution_count": null,
   "id": "f069577b",
   "metadata": {},
   "outputs": [],
   "source": []
  },
  {
   "cell_type": "code",
   "execution_count": 4,
   "id": "4920fe0a",
   "metadata": {
    "scrolled": true
   },
   "outputs": [
    {
     "name": "stdout",
     "output_type": "stream",
     "text": [
      "Enter hyphen-separated words: dsqfsd-sfdfe-g-sd-gf\n",
      "['dsqfsd', 'g', 'gf', 'sd', 'sfdfe']\n"
     ]
    }
   ],
   "source": [
    "def sort_words(input_string):\n",
    "    words = input_string.split('-')\n",
    "    words.sort()\n",
    "    return (words)\n",
    "input_string = input(\"Enter hyphen-separated words: \")\n",
    "sorted_string = sort_words(input_string)\n",
    "print(sorted_string)\n",
    "\n"
   ]
  },
  {
   "cell_type": "code",
   "execution_count": null,
   "id": "b1f73479",
   "metadata": {},
   "outputs": [],
   "source": []
  },
  {
   "cell_type": "code",
   "execution_count": null,
   "id": "56087c96",
   "metadata": {},
   "outputs": [],
   "source": []
  },
  {
   "cell_type": "code",
   "execution_count": null,
   "id": "7e3eb972",
   "metadata": {},
   "outputs": [],
   "source": []
  },
  {
   "cell_type": "code",
   "execution_count": null,
   "id": "a4671199",
   "metadata": {},
   "outputs": [],
   "source": []
  }
 ],
 "metadata": {
  "kernelspec": {
   "display_name": "Python 3 (ipykernel)",
   "language": "python",
   "name": "python3"
  },
  "language_info": {
   "codemirror_mode": {
    "name": "ipython",
    "version": 3
   },
   "file_extension": ".py",
   "mimetype": "text/x-python",
   "name": "python",
   "nbconvert_exporter": "python",
   "pygments_lexer": "ipython3",
   "version": "3.10.9"
  }
 },
 "nbformat": 4,
 "nbformat_minor": 5
}
