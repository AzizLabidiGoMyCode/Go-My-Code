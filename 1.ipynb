{
 "cells": [
  {
   "cell_type": "code",
   "execution_count": 8,
   "id": "9dda2d45",
   "metadata": {},
   "outputs": [
    {
     "name": "stdout",
     "output_type": "stream",
     "text": [
      "36\n",
      "[(1, 2), (2, 1), (2, 3), (2, 5), (4, 4)]\n"
     ]
    }
   ],
   "source": [
    "#Q 1:\n",
    "my_list = [3,2,6]\n",
    "i = my_list[0] * my_list[1] * my_list[2]\n",
    "print(i)\n",
    "#Q 2:    \n",
    "my_thing = [(2, 5), (1, 2), (4, 4), (2, 3), (2, 1)]\n",
    "my_sorted_thing = sorted(my_thing)\n",
    "print(my_sorted_thing)\n",
    "#Q 3: diden't understand\n",
    "#Q4 \n",
    "n = input(\"enter a number\")\n",
    "for i in range (1,n):\n",
    "rusualt[i] = i*i ##not sure :(\n",
    "print(rusualt)\n",
    "#Q5: :-( \n",
    "#Q6\n",
    "my_set = {0, 1, 2, 3, 4}\n",
    "for item in my_set:\n",
    "    print(item)\n",
    "my_set = {0, 1, 2, 3, 4}\n",
    "for item in my_set:\n",
    "    print(item)\n",
    "my_set = {0, 1, 2, 3, 4}\n",
    "my_set.add(5)\n",
    "my_set.remove(3)\n",
    "print(my_set)"
   ]
  }
 ],
 "metadata": {
  "kernelspec": {
   "display_name": "Python 3 (ipykernel)",
   "language": "python",
   "name": "python3"
  },
  "language_info": {
   "codemirror_mode": {
    "name": "ipython",
    "version": 3
   },
   "file_extension": ".py",
   "mimetype": "text/x-python",
   "name": "python",
   "nbconvert_exporter": "python",
   "pygments_lexer": "ipython3",
   "version": "3.10.9"
  }
 },
 "nbformat": 4,
 "nbformat_minor": 5
}
