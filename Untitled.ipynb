{
 "cells": [
  {
   "cell_type": "code",
   "execution_count": null,
   "id": "01983ae2",
   "metadata": {},
   "outputs": [],
   "source": [
    "first_name = input(\"Enter your first name: \")\n",
    "last_name = input(\"Enter your last name: \")\n",
    "\n",
    "# Concatenate the first and last names with a space between them\n",
    "full_name = first_name + \" \" + last_name\n",
    "\n",
    "# Use slicing to reverse the order of the full name\n",
    "reversed_name = full_name[::-1]\n",
    "\n",
    "# Print the reversed name\n",
    "print(reversed_name)\n"
   ]
  }
 ],
 "metadata": {
  "kernelspec": {
   "display_name": "Python 3 (ipykernel)",
   "language": "python",
   "name": "python3"
  },
  "language_info": {
   "codemirror_mode": {
    "name": "ipython",
    "version": 3
   },
   "file_extension": ".py",
   "mimetype": "text/x-python",
   "name": "python",
   "nbconvert_exporter": "python",
   "pygments_lexer": "ipython3",
   "version": "3.10.9"
  }
 },
 "nbformat": 4,
 "nbformat_minor": 5
}
